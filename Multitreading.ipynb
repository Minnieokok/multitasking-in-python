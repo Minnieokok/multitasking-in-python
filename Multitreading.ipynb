{
 "cells": [
  {
   "cell_type": "markdown",
   "id": "ad1fc552-e5f2-45d1-aad0-6532732694a0",
   "metadata": {},
   "source": [
    "MULTITHREADING"
   ]
  },
  {
   "cell_type": "code",
   "execution_count": 31,
   "id": "b1365df7-d596-4e3b-8a96-6841e66d934a",
   "metadata": {},
   "outputs": [],
   "source": [
    "import threading "
   ]
  },
  {
   "cell_type": "code",
   "execution_count": 32,
   "id": "2c436187-8a45-4869-9265-a3509b92d6e4",
   "metadata": {},
   "outputs": [],
   "source": [
    "def test(id) :\n",
    "    print(\"this is my test id %d \" % id)"
   ]
  },
  {
   "cell_type": "code",
   "execution_count": 33,
   "id": "0df2b3de-3667-4857-976b-e70b79f88c4e",
   "metadata": {},
   "outputs": [],
   "source": [
    "thred = [threading.Thread(target=test , args = (i,)) for i in [10 , 1 ,3]]"
   ]
  },
  {
   "cell_type": "code",
   "execution_count": 34,
   "id": "c5b246eb-0b16-4f22-993d-976fa1ce58b8",
   "metadata": {},
   "outputs": [
    {
     "data": {
      "text/plain": [
       "[<Thread(Thread-17 (test), initial)>,\n",
       " <Thread(Thread-18 (test), initial)>,\n",
       " <Thread(Thread-19 (test), initial)>]"
      ]
     },
     "execution_count": 34,
     "metadata": {},
     "output_type": "execute_result"
    }
   ],
   "source": [
    "thred"
   ]
  },
  {
   "cell_type": "code",
   "execution_count": 30,
   "id": "0cea4a9e-ed48-4679-981e-24432a5838d5",
   "metadata": {},
   "outputs": [
    {
     "name": "stdout",
     "output_type": "stream",
     "text": [
      "This is my test id 10d \n",
      "This is my test id 1d \n",
      "This is my test id 3d \n"
     ]
    }
   ],
   "source": [
    "for t in thred:\n",
    "    t.start()"
   ]
  },
  {
   "cell_type": "code",
   "execution_count": null,
   "id": "e01f576c-0209-470a-9694-60decef9277a",
   "metadata": {},
   "outputs": [],
   "source": []
  },
  {
   "cell_type": "code",
   "execution_count": null,
   "id": "0aad1a3a-9963-4e91-a88e-163bf6260319",
   "metadata": {},
   "outputs": [],
   "source": []
  }
 ],
 "metadata": {
  "kernelspec": {
   "display_name": "Python 3 (ipykernel)",
   "language": "python",
   "name": "python3"
  },
  "language_info": {
   "codemirror_mode": {
    "name": "ipython",
    "version": 3
   },
   "file_extension": ".py",
   "mimetype": "text/x-python",
   "name": "python",
   "nbconvert_exporter": "python",
   "pygments_lexer": "ipython3",
   "version": "3.10.8"
  }
 },
 "nbformat": 4,
 "nbformat_minor": 5
}
